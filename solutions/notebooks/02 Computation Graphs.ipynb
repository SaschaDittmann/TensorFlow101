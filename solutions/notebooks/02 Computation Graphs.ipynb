{
 "cells": [
  {
   "cell_type": "markdown",
   "metadata": {},
   "source": [
    "# Computation Graphs\n",
    "\n",
    "TensorFlow allows us to implement machine learning algorithms by creating and computing operations that interact with one another. These interactions form what we call a “computation graph,” with which we can intuitively represent complicated functional architectures."
   ]
  },
  {
   "cell_type": "code",
   "execution_count": null,
   "metadata": {},
   "outputs": [],
   "source": [
    "import tensorflow as tf\n",
    "print(tf.__version__)"
   ]
  },
  {
   "cell_type": "markdown",
   "metadata": {},
   "source": [
    "## Example\n",
    "\n",
    "![Node Dependencies](img/graph_example.png)"
   ]
  },
  {
   "cell_type": "code",
   "execution_count": null,
   "metadata": {},
   "outputs": [],
   "source": [
    "a = tf.constant(5) \n",
    "b = tf.constant(2)\n",
    "c = tf.constant(3)\n",
    "\n",
    "d = tf.multiply(a,b) \n",
    "e = tf.add(c,b) \n",
    "f = tf.subtract(d,e)\n",
    "\n",
    "print(\"f = {}\".format(f))"
   ]
  },
  {
   "cell_type": "markdown",
   "metadata": {},
   "source": [
    "## Exercise\n",
    "\n",
    "Create a Computation Graph for figure A and B:\n",
    "\n",
    "![Try it yourself](img/graph_exercise.png)\n",
    "\n",
    "<a href=\"https://www.tensorflow.org/api_docs/cc/group/math-ops\" target=\"_blank\">Reference: TensorFlow - Math Operations</a>"
   ]
  },
  {
   "cell_type": "code",
   "execution_count": null,
   "metadata": {},
   "outputs": [],
   "source": [
    "a = tf.constant(5.0) \n",
    "b = tf.constant(2.0)\n",
    "\n",
    "# BEGIN - ADD YOUR CODE HERE\n",
    "c = tf.multiply(a,b) # 10\n",
    "d = tf.add(a,b) # 7\n",
    "\n",
    "e = tf.subtract(c,d) # 3\n",
    "f = tf.add(c,d) # 17\n",
    "\n",
    "g = tf.divide(f,e) # 5,66666\n",
    "# END - ADD YOUR CODE HERE\n",
    " \n",
    "print(\"a = %.2f\\nb = %.2f\\nc = %.2f\\nd = %.2f\\ne = %.2f\\nf = %.2f\\ng = %.2f\" % (a, b, c, d, e, f, g))"
   ]
  },
  {
   "cell_type": "code",
   "execution_count": null,
   "metadata": {},
   "outputs": [],
   "source": [
    "a = tf.constant(5.0) \n",
    "b = tf.constant(2.0)\n",
    "\n",
    "# BEGIN - ADD YOUR CODE HERE\n",
    "c = tf.multiply(a,b) # 10\n",
    "d = tf.sin(c) # -0.54402111088\n",
    "\n",
    "e = tf.divide(d,b) # -0.272010564804\n",
    "# END - ADD YOUR CODE HERE\n",
    "\n",
    "print(\"a = %.2f\\nb = %.2f\\nc = %.2f\\nd = %.2f\\ne = %.2f\" % (a, b, c, d, e))"
   ]
  }
 ],
 "metadata": {
  "kernelspec": {
   "display_name": "Python 3",
   "language": "python",
   "name": "python3"
  },
  "language_info": {
   "codemirror_mode": {
    "name": "ipython",
    "version": 3
   },
   "file_extension": ".py",
   "mimetype": "text/x-python",
   "name": "python",
   "nbconvert_exporter": "python",
   "pygments_lexer": "ipython3",
   "version": "3.6.8"
  }
 },
 "nbformat": 4,
 "nbformat_minor": 2
}
